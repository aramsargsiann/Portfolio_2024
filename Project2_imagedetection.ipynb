{
  "nbformat": 4,
  "nbformat_minor": 0,
  "metadata": {
    "colab": {
      "provenance": [],
      "authorship_tag": "ABX9TyMDVVc0p3sPbOeHoEVD6EFf",
      "include_colab_link": true
    },
    "kernelspec": {
      "name": "python3",
      "display_name": "Python 3"
    },
    "language_info": {
      "name": "python"
    }
  },
  "cells": [
    {
      "cell_type": "markdown",
      "metadata": {
        "id": "view-in-github",
        "colab_type": "text"
      },
      "source": [
        "<a href=\"https://colab.research.google.com/github/aramsargsiann/Portfolio_2024/blob/main/Project2_imagedetection.ipynb\" target=\"_parent\"><img src=\"https://colab.research.google.com/assets/colab-badge.svg\" alt=\"Open In Colab\"/></a>"
      ]
    },
    {
      "cell_type": "code",
      "execution_count": 1,
      "metadata": {
        "id": "mMK23ewXANyk"
      },
      "outputs": [],
      "source": [
        "import torch\n",
        "import torch.nn as nn\n",
        "import torch.nn.functional as F\n",
        "import torchvision\n",
        "import torchvision.transforms as transforms\n",
        "import matplotlib.pyplot as plt\n",
        "import numpy as np"
      ]
    },
    {
      "cell_type": "code",
      "source": [
        "\n",
        "# Device configuration\n",
        "device = torch.device('cuda' if torch.cuda.is_available() else 'cpu')"
      ],
      "metadata": {
        "id": "pY7Tbb__xb2B"
      },
      "execution_count": 2,
      "outputs": []
    },
    {
      "cell_type": "code",
      "source": [
        "# Hyper-parameters\n",
        "num_epochs = 5\n",
        "batch_size = 4\n",
        "learning_rate = 0.001\n",
        "# dataset has PILImage images of range [0, 1].\n",
        "# We transform them to Tensors of normalized range [-1, 1]\n",
        "transform = transforms.Compose(\n",
        "    [transforms.ToTensor(),\n",
        "     transforms.Normalize((0.5, 0.5, 0.5), (0.5, 0.5, 0.5))])"
      ],
      "metadata": {
        "id": "EIecSHBMxZiG"
      },
      "execution_count": 3,
      "outputs": []
    },
    {
      "cell_type": "code",
      "source": [
        "# CIFAR10: 60000 32x32 color images in 10 classes, with 6000 images per class\n",
        "train_dataset = torchvision.datasets.CIFAR10(root='./data', train=True,\n",
        "                                        download=True, transform=transform)\n",
        "\n",
        "test_dataset = torchvision.datasets.CIFAR10(root='./data', train=False,\n",
        "                                       download=True, transform=transform)\n",
        "\n",
        "train_loader = torch.utils.data.DataLoader(train_dataset, batch_size=batch_size,\n",
        "                                          shuffle=True)\n",
        "\n",
        "test_loader = torch.utils.data.DataLoader(test_dataset, batch_size=batch_size,\n",
        "                                         shuffle=False)\n",
        "classes = ('plane', 'car', 'bird', 'cat',\n",
        "           'deer', 'dog', 'frog', 'horse', 'ship', 'truck')\n"
      ],
      "metadata": {
        "colab": {
          "base_uri": "https://localhost:8080/"
        },
        "id": "Pro0DxF4xW5o",
        "outputId": "2dc32c5f-2fa4-4e4e-88cb-011a1931c4ae"
      },
      "execution_count": 4,
      "outputs": [
        {
          "output_type": "stream",
          "name": "stdout",
          "text": [
            "Downloading https://www.cs.toronto.edu/~kriz/cifar-10-python.tar.gz to ./data/cifar-10-python.tar.gz\n"
          ]
        },
        {
          "output_type": "stream",
          "name": "stderr",
          "text": [
            "100%|██████████| 170498071/170498071 [00:03<00:00, 53891560.24it/s]\n"
          ]
        },
        {
          "output_type": "stream",
          "name": "stdout",
          "text": [
            "Extracting ./data/cifar-10-python.tar.gz to ./data\n",
            "Files already downloaded and verified\n"
          ]
        }
      ]
    },
    {
      "cell_type": "code",
      "source": [
        "def imshow(img):\n",
        "    img = img / 2 + 0.5  # unnormalize\n",
        "    npimg = img.numpy()\n",
        "    plt.imshow(np.transpose(npimg, (1, 2, 0)))\n",
        "    plt.show()\n"
      ],
      "metadata": {
        "id": "0D-m4pGwxTb1"
      },
      "execution_count": 5,
      "outputs": []
    },
    {
      "cell_type": "code",
      "source": [
        "# get some random training images\n",
        "dataiter = iter(train_loader)\n",
        "images, labels = next(dataiter)\n"
      ],
      "metadata": {
        "id": "dm-4X0yLxR0R"
      },
      "execution_count": 9,
      "outputs": []
    },
    {
      "cell_type": "code",
      "source": [
        "# show images\n",
        "imshow(torchvision.utils.make_grid(images))"
      ],
      "metadata": {
        "colab": {
          "base_uri": "https://localhost:8080/",
          "height": 193
        },
        "id": "6nKrMApexQGx",
        "outputId": "136db8c4-d627-4205-85de-c50b18d0c927"
      },
      "execution_count": 10,
      "outputs": [
        {
          "output_type": "display_data",
          "data": {
            "text/plain": [
              "<Figure size 640x480 with 1 Axes>"
            ],
            "image/png": "[encoded data removed]"
          },
          "metadata": {}
        }
      ]
    },
    {
      "cell_type": "code",
      "source": [
        "class ConvNet(nn.Module):\n",
        "    def __init__(self):\n",
        "        super(ConvNet, self).__init__()\n",
        "        self.conv1 = nn.Conv2d(3, 6, 5)  # 3 input channels, 6 output channels, 5 kernel size\n",
        "        self.pool = nn.MaxPool2d(2, 2)   # Max pooling with kernel size 2x2 and stride 2\n",
        "        self.conv2 = nn.Conv2d(6, 16, 5) # 6 input channels, 16 output channels, 5 kernel size\n",
        "        self.fc1 = nn.Linear(16 * 5 * 5, 120) # Fully connected layer with 120 output features\n",
        "        self.fc2 = nn.Linear(120, 84)         # Fully connected layer with 84 output features\n",
        "        self.fc3 = nn.Linear(84, 10)           # Fully connected layer with 10 output features (10 classes)\n",
        "\n",
        "    def forward(self, x):\n",
        "        # -> n, 3, 32, 32\n",
        "        x = self.pool(F.relu(self.conv1(x)))  # -> n, 6, 14, 14\n",
        "        x = self.pool(F.relu(self.conv2(x)))  # -> n, 16, 5, 5\n",
        "        x = x.view(-1, 16 * 5 * 5)            # -> n, 400\n",
        "        x = F.relu(self.fc1(x))               # -> n, 120\n",
        "        x = F.relu(self.fc2(x))               # -> n, 84\n",
        "        x = self.fc3(x)                       # -> n, 10\n",
        "        return x\n",
        "\n"
      ],
      "metadata": {
        "id": "W-JIKUczxL5f"
      },
      "execution_count": 11,
      "outputs": []
    },
    {
      "cell_type": "code",
      "source": [
        "model = ConvNet().to(device)\n",
        "\n",
        "criterion = nn.CrossEntropyLoss()\n",
        "optimizer = torch.optim.SGD(model.parameters(), lr=learning_rate)"
      ],
      "metadata": {
        "id": "wlhsqyFHxJp5"
      },
      "execution_count": 12,
      "outputs": []
    },
    {
      "cell_type": "code",
      "source": [
        "n_total_steps = len(train_loader)\n",
        "for epoch in range(num_epochs):\n",
        "    for i, (images, labels) in enumerate(train_loader):\n",
        "        # origin shape: [4, 3, 32, 32] = 4, 3, 1024\n",
        "        # input_layer: 3 input channels, 6 output channels, 5 kernel size\n",
        "        images = images.to(device)\n",
        "        labels = labels.to(device)\n",
        "\n",
        "        # Forward pass\n",
        "        outputs = model(images)\n",
        "        loss = criterion(outputs, labels)\n",
        "\n",
        "        # Backward and optimize\n",
        "        optimizer.zero_grad()\n",
        "        loss.backward()\n",
        "        optimizer.step()\n",
        "\n",
        "        if (i+1) % 2000 == 0:\n",
        "            print (f'Epoch [{epoch+1}/{num_epochs}], Step [{i+1}/{n_total_steps}], Loss: {loss.item():.4f}')\n",
        "print('Finished Training')\n",
        "PATH = './cnn.pth'\n",
        "torch.save(model.state_dict(), PATH)"
      ],
      "metadata": {
        "colab": {
          "base_uri": "https://localhost:8080/"
        },
        "id": "Qk-A5mw2xHIc",
        "outputId": "94b63016-878c-4ed6-92dd-2ddc32231b68"
      },
      "execution_count": 13,
      "outputs": [
        {
          "output_type": "stream",
          "name": "stdout",
          "text": [
            "Epoch [1/5], Step [2000/12500], Loss: 2.3379\n",
            "Epoch [1/5], Step [4000/12500], Loss: 2.3135\n",
            "Epoch [1/5], Step [6000/12500], Loss: 2.2642\n",
            "Epoch [1/5], Step [8000/12500], Loss: 2.4116\n",
            "Epoch [1/5], Step [10000/12500], Loss: 2.1407\n",
            "Epoch [1/5], Step [12000/12500], Loss: 2.2030\n",
            "Epoch [2/5], Step [2000/12500], Loss: 1.6112\n",
            "Epoch [2/5], Step [4000/12500], Loss: 1.7203\n",
            "Epoch [2/5], Step [6000/12500], Loss: 1.8181\n",
            "Epoch [2/5], Step [8000/12500], Loss: 1.5809\n",
            "Epoch [2/5], Step [10000/12500], Loss: 1.6878\n",
            "Epoch [2/5], Step [12000/12500], Loss: 1.8831\n",
            "Epoch [3/5], Step [2000/12500], Loss: 1.5178\n",
            "Epoch [3/5], Step [4000/12500], Loss: 2.2770\n",
            "Epoch [3/5], Step [6000/12500], Loss: 2.0052\n",
            "Epoch [3/5], Step [8000/12500], Loss: 1.7533\n",
            "Epoch [3/5], Step [10000/12500], Loss: 1.4232\n",
            "Epoch [3/5], Step [12000/12500], Loss: 1.3109\n",
            "Epoch [4/5], Step [2000/12500], Loss: 3.0859\n",
            "Epoch [4/5], Step [4000/12500], Loss: 1.2821\n",
            "Epoch [4/5], Step [6000/12500], Loss: 0.7502\n",
            "Epoch [4/5], Step [8000/12500], Loss: 1.2528\n",
            "Epoch [4/5], Step [10000/12500], Loss: 0.4972\n",
            "Epoch [4/5], Step [12000/12500], Loss: 2.0475\n",
            "Epoch [5/5], Step [2000/12500], Loss: 2.0053\n",
            "Epoch [5/5], Step [4000/12500], Loss: 1.9353\n",
            "Epoch [5/5], Step [6000/12500], Loss: 1.4449\n",
            "Epoch [5/5], Step [8000/12500], Loss: 1.7346\n",
            "Epoch [5/5], Step [10000/12500], Loss: 1.6973\n",
            "Epoch [5/5], Step [12000/12500], Loss: 1.3397\n",
            "Finished Training\n"
          ]
        }
      ]
    },
    {
      "cell_type": "code",
      "source": [
        "with torch.no_grad():\n",
        "    n_correct = 0\n",
        "    n_samples = 0\n",
        "    n_class_correct = [0 for i in range(10)]\n",
        "    n_class_samples = [0 for i in range(10)]\n",
        "    for images, labels in test_loader:\n",
        "        images = images.to(device)\n",
        "        labels = labels.to(device)\n",
        "        outputs = model(images)\n",
        "        # max returns (value ,index)\n",
        "        _, predicted = torch.max(outputs, 1)\n",
        "        n_samples += labels.size(0)\n",
        "        n_correct += (predicted == labels).sum().item()\n",
        "\n",
        "        for i in range(batch_size):\n",
        "            label = labels[i]\n",
        "            pred = predicted[i]\n",
        "            if (label == pred):\n",
        "                n_class_correct[label] += 1\n",
        "            n_class_samples[label] += 1\n",
        "\n",
        "    acc = 100.0 * n_correct / n_samples\n",
        "    print(f'Accuracy of the network: {acc} %')\n",
        "\n",
        "    for i in range(10):\n",
        "        acc = 100.0 * n_class_correct[i] / n_class_samples[i]\n",
        "        print(f'Accuracy of {classes[i]}: {acc} %')\n"
      ],
      "metadata": {
        "colab": {
          "base_uri": "https://localhost:8080/"
        },
        "id": "5BMP8IXvw8X0",
        "outputId": "33321af8-fccb-4d3e-8839-7424b5d05889"
      },
      "execution_count": 14,
      "outputs": [
        {
          "output_type": "stream",
          "name": "stdout",
          "text": [
            "Accuracy of the network: 47.98 %\n",
            "Accuracy of plane: 55.7 %\n",
            "Accuracy of car: 54.7 %\n",
            "Accuracy of bird: 26.3 %\n",
            "Accuracy of cat: 18.9 %\n",
            "Accuracy of deer: 38.2 %\n",
            "Accuracy of dog: 29.8 %\n",
            "Accuracy of frog: 69.9 %\n",
            "Accuracy of horse: 68.1 %\n",
            "Accuracy of ship: 63.7 %\n",
            "Accuracy of truck: 54.5 %\n"
          ]
        }
      ]
    },
    {
      "cell_type": "code",
      "source": [
        "# Results Are no that good cuze number of epochs is too low, u can increse and see the results"
      ],
      "metadata": {
        "id": "3Bvana2Ty-lU"
      },
      "execution_count": null,
      "outputs": []
    }
  ]
}